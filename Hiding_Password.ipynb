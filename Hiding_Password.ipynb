{
  "nbformat": 4,
  "nbformat_minor": 0,
  "metadata": {
    "colab": {
      "name": "Hiding Password.ipynb",
      "provenance": [],
      "authorship_tag": "ABX9TyMEreLJEt53KZl7D0KeKOC1",
      "include_colab_link": true
    },
    "kernelspec": {
      "name": "python3",
      "display_name": "Python 3"
    },
    "language_info": {
      "name": "python"
    }
  },
  "cells": [
    {
      "cell_type": "markdown",
      "metadata": {
        "id": "view-in-github",
        "colab_type": "text"
      },
      "source": [
        "<a href=\"https://colab.research.google.com/github/TMBTS/Snipits/blob/main/Hiding_Password.ipynb\" target=\"_parent\"><img src=\"https://colab.research.google.com/assets/colab-badge.svg\" alt=\"Open In Colab\"/></a>"
      ]
    },
    {
      "cell_type": "code",
      "execution_count": null,
      "metadata": {
        "id": "H_zvjw01v2PD"
      },
      "outputs": [],
      "source": [
        "import getpass \n",
        "x = getpass.getpass(\"Enter Passowrd\")\n",
        "print(x)"
      ]
    }
  ]
}